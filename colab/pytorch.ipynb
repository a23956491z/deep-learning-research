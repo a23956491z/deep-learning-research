{
  "nbformat": 4,
  "nbformat_minor": 0,
  "metadata": {
    "colab": {
      "name": "pytorchipynb",
      "provenance": [],
      "authorship_tag": "ABX9TyO6kYaujGUmqL3WlPZIhalV",
      "include_colab_link": true
    },
    "kernelspec": {
      "name": "python3",
      "display_name": "Python 3"
    },
    "language_info": {
      "name": "python"
    }
  },
  "cells": [
    {
      "cell_type": "markdown",
      "metadata": {
        "id": "view-in-github",
        "colab_type": "text"
      },
      "source": [
        "<a href=\"https://colab.research.google.com/github/a23956491z/deep-learning-research/blob/main/colab/pytorch.ipynb\" target=\"_parent\"><img src=\"https://colab.research.google.com/assets/colab-badge.svg\" alt=\"Open In Colab\"/></a>"
      ]
    },
    {
      "cell_type": "code",
      "metadata": {
        "colab": {
          "base_uri": "https://localhost:8080/"
        },
        "id": "vvJUm3O5ynqf",
        "outputId": "ae3bf048-0974-460b-ce59-0537f3f24187"
      },
      "source": [
        "print(\n",
        "    'hi'\n",
        ")"
      ],
      "execution_count": 1,
      "outputs": [
        {
          "output_type": "stream",
          "text": [
            "hi\n"
          ],
          "name": "stdout"
        }
      ]
    },
    {
      "cell_type": "code",
      "metadata": {
        "colab": {
          "base_uri": "https://localhost:8080/"
        },
        "id": "f3UZ7IZr0ip5",
        "outputId": "27ec1220-5324-42e3-d562-22be1bbd8063"
      },
      "source": [
        "import torch\n",
        "\n",
        "# value\n",
        "t1 = torch.tensor(4.)\n",
        "# vector\n",
        "t2 = torch.tensor([1., 2, 3, 4])\n",
        "# matrix \n",
        "t3 = torch.tensor([[5, 6], \n",
        "                   [7, 8], \n",
        "                   [9, 10]])\n",
        "\n",
        "# size of tensor\n",
        "print(t3.shape)"
      ],
      "execution_count": 9,
      "outputs": [
        {
          "output_type": "execute_result",
          "data": {
            "text/plain": [
              "torch.Size([3, 2])"
            ]
          },
          "metadata": {
            "tags": []
          },
          "execution_count": 9
        }
      ]
    },
    {
      "cell_type": "code",
      "metadata": {
        "colab": {
          "base_uri": "https://localhost:8080/"
        },
        "id": "prO-Dt1S0rHE",
        "outputId": "71145764-dd1b-4b7b-c58b-f1be06ecfd6c"
      },
      "source": [
        "x = torch.tensor(3.)# doesn't have grad\n",
        "w = torch.tensor(4., requires_grad=True)\n",
        "b = torch.tensor(5., requires_grad=True)\n",
        "\n",
        "y = w * x + b\n",
        "print(y)\n",
        "\n",
        "# The derivatie of y\n",
        "y.backward()\n",
        "\n",
        "print('dy/dx:', x.grad) # doesn't have grad\n",
        "print('dy/dw:', w.grad)\n",
        "print('dy/db:', b.grad)"
      ],
      "execution_count": 15,
      "outputs": [
        {
          "output_type": "stream",
          "text": [
            "tensor(17., grad_fn=<AddBackward0>)\n",
            "dy/dx: None\n",
            "dy/dw: tensor(3.)\n",
            "dy/db: tensor(1.)\n"
          ],
          "name": "stdout"
        }
      ]
    },
    {
      "cell_type": "code",
      "metadata": {
        "colab": {
          "base_uri": "https://localhost:8080/"
        },
        "id": "ILGpwI9f1sG_",
        "outputId": "a0fa0ce7-cae1-47f7-b5ee-353a1648248d"
      },
      "source": [
        "import numpy as np\n",
        "\n",
        "x = np.array([[1,2], [3,4]])\n",
        "y = torch.from_numpy(x)\n",
        "\n",
        "print(x.dtype, y.dtype)\n",
        "\n",
        "z = y.numpy()\n",
        "print(z)"
      ],
      "execution_count": 19,
      "outputs": [
        {
          "output_type": "stream",
          "text": [
            "int64 torch.int64\n",
            "[[1 2]\n",
            " [3 4]]\n"
          ],
          "name": "stdout"
        }
      ]
    },
    {
      "cell_type": "code",
      "metadata": {
        "id": "kKFmCcEg2pAt"
      },
      "source": [
        "# input (temp, rainfall, humidity)\n",
        "inputs = np.array([[73, 67, 43],\n",
        "                   [91, 88, 64],\n",
        "                   [87, 134, 58],\n",
        "                   [102, 43, 37],\n",
        "                   [69, 96, 70]], dtype='float32')\n",
        "\n",
        "# targets (apples, oranges)\n",
        "targets = np.array([[56, 70],\n",
        "                    [81, 101],\n",
        "                    [119, 133],\n",
        "                    [22, 37],\n",
        "                    [103, 119]], dtype='float32')\n",
        "\n",
        "inputs = torch.from_numpy(inputs)\n",
        "targets = torch.from_numpy(targets)\n",
        "\n",
        "w = torch.randn(2, 3, requires_grad=True)\n",
        "b = torch.randn(2, requires_grad=True)\n",
        "\n",
        "def model(x):\n",
        "  # .t() return transpose\n",
        "  return x @ w.t() + b\n",
        "\n",
        "def mse(t1, t2):\n",
        "  diff = t1-t2\n",
        "  return torch.sum(diff*diff) / diff.numel()\n",
        "\n",
        "preds = model(inputs)\n",
        "loss = mse(preds, targets)\n",
        "\n",
        "\n",
        "loss.backward()\n",
        "print(w.grad)\n",
        "print(b.grad)\n",
        "\n",
        "for i in range(100):\n",
        "  preds = model(inputs)\n",
        "  loss = mse(preds, targets)\n",
        "  loss.backward()\n",
        "  print(loss)\n",
        "  with torch.no_grad():\n",
        "    w -= w.grad * 1e-4\n",
        "    b -= b.grad * 1e-4\n",
        "    w.grad.zero_()\n",
        "    b.grad.zero_()\n",
        "\n",
        "\n",
        "\n",
        "preds = model(inputs)\n",
        "print(preds)"
      ],
      "execution_count": null,
      "outputs": []
    },
    {
      "cell_type": "code",
      "metadata": {
        "colab": {
          "base_uri": "https://localhost:8080/"
        },
        "id": "ek8ZdKfW4qm9",
        "outputId": "03c7c90f-4f96-4484-936b-a8bffe9bcb92"
      },
      "source": [
        "import torch.nn as nn\n",
        "\n",
        "from torch.utils.data import TensorDataset\n",
        "\n",
        "train_ds = TensorDataset(inputs, targets)\n",
        "train_ds[0:3]\n",
        "\n",
        "from torch.utils.data import DataLoader\n",
        "batch_size = 3\n",
        "train_dl = DataLoader(train_ds, batch_size, shuffle=True)\n",
        "\n",
        "model = nn.Linear(3,2)\n",
        "\n",
        "\n",
        "print(list(model.parameters()))\n",
        "\n",
        "preds = model(inputs)\n",
        "\n",
        "import torch.nn.functional as F\n",
        "loss_fn = F.mse_loss\n",
        "loss = loss_fn(model(inputs), targets)\n",
        "print(loss)\n",
        "\n",
        "opt = torch.optim.SGD(model.parameters(), lr=1e-5)\n",
        "def fit(num_epochs, model, loss_fn, opt):\n",
        "  for epoch in range(num_epochs):\n",
        "\n",
        "    for xb, yb in train_dl:\n",
        "      pred = model(xb)\n",
        "      loss = loss_fn(pred,yb)\n",
        "      loss.backward()\n",
        "      opt.step()\n",
        "      opt.zero_grad()\n",
        "    \n",
        "    if(epoch+1) % 10 == 0:\n",
        "      print(\"Epoch [{:>3} / {}], Loss: {:.4f}\".format(epoch+1, num_epochs, loss))\n",
        "\n",
        "fit(100, model, loss_fn, opt)"
      ],
      "execution_count": 61,
      "outputs": [
        {
          "output_type": "stream",
          "text": [
            "[Parameter containing:\n",
            "tensor([[-0.4740,  0.3844,  0.4024],\n",
            "        [ 0.1066, -0.2387,  0.4897]], requires_grad=True), Parameter containing:\n",
            "tensor([-0.5043, -0.1468], requires_grad=True)]\n",
            "tensor(5706.4141, grad_fn=<MseLossBackward>)\n",
            "Epoch [ 10 / 100], Loss: 533.7190\n",
            "Epoch [ 20 / 100], Loss: 416.4494\n",
            "Epoch [ 30 / 100], Loss: 75.0797\n",
            "Epoch [ 40 / 100], Loss: 76.8041\n",
            "Epoch [ 50 / 100], Loss: 32.1490\n",
            "Epoch [ 60 / 100], Loss: 83.6493\n",
            "Epoch [ 70 / 100], Loss: 116.7641\n",
            "Epoch [ 80 / 100], Loss: 34.4732\n",
            "Epoch [ 90 / 100], Loss: 70.6477\n",
            "Epoch [100 / 100], Loss: 3.5452\n"
          ],
          "name": "stdout"
        }
      ]
    },
    {
      "cell_type": "code",
      "metadata": {
        "id": "wZSyCUTN8u3x"
      },
      "source": [
        ""
      ],
      "execution_count": null,
      "outputs": []
    }
  ]
}
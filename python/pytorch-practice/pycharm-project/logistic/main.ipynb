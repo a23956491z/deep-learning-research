{
 "cells": [
  {
   "cell_type": "code",
   "execution_count": 105,
   "metadata": {
    "collapsed": true
   },
   "outputs": [],
   "source": [
    "import torch\n",
    "import torchvision\n",
    "\n",
    "from torchvision.datasets import MNIST\n",
    "\n",
    "import matplotlib.pyplot as plt"
   ]
  },
  {
   "cell_type": "markdown",
   "source": [
    "Download MNIST"
   ],
   "metadata": {
    "collapsed": false,
    "pycharm": {
     "name": "#%% md\n"
    }
   }
  },
  {
   "cell_type": "code",
   "execution_count": 106,
   "outputs": [],
   "source": [
    "dataset = MNIST(root='data/', download=True)"
   ],
   "metadata": {
    "collapsed": false,
    "pycharm": {
     "name": "#%%\n"
    }
   }
  },
  {
   "cell_type": "markdown",
   "source": [
    "Get test dataset only"
   ],
   "metadata": {
    "collapsed": false,
    "pycharm": {
     "name": "#%% md\n"
    }
   }
  },
  {
   "cell_type": "code",
   "execution_count": 107,
   "outputs": [
    {
     "name": "stdout",
     "output_type": "stream",
     "text": [
      "60000\n",
      "10000\n"
     ]
    }
   ],
   "source": [
    "print(len(dataset))\n",
    "\n",
    "test_dataset = MNIST(root='data/', train=False)\n",
    "print(len(test_dataset))"
   ],
   "metadata": {
    "collapsed": false,
    "pycharm": {
     "name": "#%%\n"
    }
   }
  },
  {
   "cell_type": "code",
   "execution_count": 108,
   "outputs": [
    {
     "data": {
      "text/plain": "(<PIL.Image.Image image mode=L size=28x28 at 0x7F16FEEDC710>, 7)"
     },
     "execution_count": 108,
     "metadata": {},
     "output_type": "execute_result"
    }
   ],
   "source": [
    "test_dataset[0]"
   ],
   "metadata": {
    "collapsed": false,
    "pycharm": {
     "name": "#%%\n"
    }
   }
  },
  {
   "cell_type": "markdown",
   "source": [
    "MNIST we download are PIL.Image object\n",
    "Though we can Display it\n",
    "however we can't just put into learning model"
   ],
   "metadata": {
    "collapsed": false,
    "pycharm": {
     "name": "#%% md\n"
    }
   }
  },
  {
   "cell_type": "code",
   "execution_count": 109,
   "outputs": [
    {
     "name": "stdout",
     "output_type": "stream",
     "text": [
      "Label: 5\n"
     ]
    },
    {
     "data": {
      "text/plain": "<Figure size 432x288 with 1 Axes>",
      "image/png": "[encoded data removed]"
     },
     "metadata": {
      "needs_background": "light"
     },
     "output_type": "display_data"
    }
   ],
   "source": [
    "image, label = dataset[0]\n",
    "plt.imshow(image, cmap='gray')\n",
    "print('Label:', label)"
   ],
   "metadata": {
    "collapsed": false,
    "pycharm": {
     "name": "#%%\n"
    }
   }
  },
  {
   "cell_type": "markdown",
   "source": [
    "## torchvision.transforms\n",
    "make the MNIST PIL.image object to value data(tensors)"
   ],
   "metadata": {
    "collapsed": false,
    "pycharm": {
     "name": "#%% md\n"
    }
   }
  },
  {
   "cell_type": "code",
   "execution_count": 110,
   "outputs": [
    {
     "name": "stdout",
     "output_type": "stream",
     "text": [
      "torch.Size([1, 28, 28]) 5\n"
     ]
    }
   ],
   "source": [
    "import torchvision.transforms as transforms\n",
    "\n",
    "dataset = MNIST(root='data/',\n",
    "                train=True,\n",
    "                transform=transforms.ToTensor())\n",
    "\n",
    "img_tensor, label = dataset[0]\n",
    "print(img_tensor.shape, label)"
   ],
   "metadata": {
    "collapsed": false,
    "pycharm": {
     "name": "#%%\n"
    }
   }
  },
  {
   "cell_type": "code",
   "execution_count": 111,
   "outputs": [
    {
     "name": "stdout",
     "output_type": "stream",
     "text": [
      "tensor([[[0.0039, 0.6039, 0.9922, 0.3529, 0.0000],\n",
      "         [0.0000, 0.5451, 0.9922, 0.7451, 0.0078],\n",
      "         [0.0000, 0.0431, 0.7451, 0.9922, 0.2745],\n",
      "         [0.0000, 0.0000, 0.1373, 0.9451, 0.8824],\n",
      "         [0.0000, 0.0000, 0.0000, 0.3176, 0.9412]]])\n",
      "tensor(1.) tensor(0.)\n"
     ]
    }
   ],
   "source": [
    "print(img_tensor[:, 10:15, 10:15])\n",
    "print(torch.max(img_tensor), torch.min(img_tensor))"
   ],
   "metadata": {
    "collapsed": false,
    "pycharm": {
     "name": "#%%\n"
    }
   }
  },
  {
   "cell_type": "code",
   "execution_count": 112,
   "outputs": [
    {
     "data": {
      "text/plain": "<matplotlib.image.AxesImage at 0x7f1701d006a0>"
     },
     "execution_count": 112,
     "metadata": {},
     "output_type": "execute_result"
    },
    {
     "data": {
      "text/plain": "<Figure size 432x288 with 1 Axes>",
      "image/png": "[encoded data removed]"
     },
     "metadata": {
      "needs_background": "light"
     },
     "output_type": "display_data"
    }
   ],
   "source": [
    "plt.imshow(img_tensor[0, 10:15, 10:15], cmap='gray')"
   ],
   "metadata": {
    "collapsed": false,
    "pycharm": {
     "name": "#%%\n"
    }
   }
  },
  {
   "cell_type": "markdown",
   "source": [
    "## Split dataset to 3 parts\n",
    "1. Training set\n",
    "2. Validation set\n",
    "3. Testing Set"
   ],
   "metadata": {
    "collapsed": false,
    "pycharm": {
     "name": "#%% md\n"
    }
   }
  },
  {
   "cell_type": "markdown",
   "source": [
    "## Split validation and training by hand\n",
    "And we shuffle the data first(by index)"
   ],
   "metadata": {
    "collapsed": false,
    "pycharm": {
     "name": "#%% md\n"
    }
   }
  },
  {
   "cell_type": "code",
   "execution_count": 113,
   "outputs": [],
   "source": [
    "import numpy as np\n",
    "\n",
    "def spilit_indices(n, val_percent):\n",
    "\n",
    "    validation_n = int(val_percent * n)\n",
    "\n",
    "    # just shuffle the list of [0,1,...,n-1]\n",
    "    idxs = np.random.permutation(n)\n",
    "\n",
    "    # [n : ] skip first n\n",
    "    # [ : n] from 0 to n\n",
    "    return idxs[validation_n:], idxs[:validation_n]"
   ],
   "metadata": {
    "collapsed": false,
    "pycharm": {
     "name": "#%%\n"
    }
   }
  },
  {
   "cell_type": "code",
   "execution_count": 114,
   "outputs": [
    {
     "name": "stdout",
     "output_type": "stream",
     "text": [
      "48000 12000\n",
      "Smaple validation indices:  [20653  3064 35647 14774 45878 45664   986 38396 54585 29738 21554 42249\n",
      " 12253 15214 12531 54810  4952 34688 41226 54257]\n"
     ]
    }
   ],
   "source": [
    "train_indices, validation_indices = spilit_indices(len(dataset), val_percent=0.2)\n",
    "\n",
    "print(len(train_indices), len(validation_indices))\n",
    "print('Smaple validation indices: ', validation_indices[:20])"
   ],
   "metadata": {
    "collapsed": false,
    "pycharm": {
     "name": "#%%\n"
    }
   }
  },
  {
   "cell_type": "markdown",
   "source": [
    "`SubsetRandomSampler` using indices to sample data\n",
    "and randomly, so the shuffle indices might be redundant."
   ],
   "metadata": {
    "collapsed": false,
    "pycharm": {
     "name": "#%% md\n"
    }
   }
  },
  {
   "cell_type": "code",
   "execution_count": 115,
   "outputs": [],
   "source": [
    "from torch.utils.data.sampler import SubsetRandomSampler\n",
    "from torch.utils.data.dataloader import DataLoader\n",
    "\n",
    "batch_size = 100\n",
    "\n",
    "# Combine sampler(using indices) and data loader\n",
    "# Training\n",
    "train_sampler = SubsetRandomSampler(train_indices)\n",
    "train_loader = DataLoader(dataset,\n",
    "                          batch_size,\n",
    "                          sampler=train_sampler)\n",
    "\n",
    "# Validation\n",
    "val_sampler = SubsetRandomSampler(validation_indices)\n",
    "val_loader = DataLoader(dataset,\n",
    "                        batch_size,\n",
    "                        sampler=val_sampler)"
   ],
   "metadata": {
    "collapsed": false,
    "pycharm": {
     "name": "#%%\n"
    }
   }
  },
  {
   "cell_type": "markdown",
   "source": [
    "## split data using utils\n",
    "`torch.utils.data.random_split`\n",
    "\n",
    "can split dataset into validation set and training set as well"
   ],
   "metadata": {
    "collapsed": false,
    "pycharm": {
     "name": "#%% md\n"
    }
   }
  },
  {
   "cell_type": "code",
   "execution_count": 116,
   "outputs": [
    {
     "data": {
      "text/plain": "(50000, 10000)"
     },
     "execution_count": 116,
     "metadata": {},
     "output_type": "execute_result"
    }
   ],
   "source": [
    "# Spliting Training and Validation datasets\n",
    "from torch.utils.data import random_split\n",
    "\n",
    "train_ds, val_ds = random_split(dataset, [50000, 10000])\n",
    "len(train_ds), len(val_ds)"
   ],
   "metadata": {
    "collapsed": false,
    "pycharm": {
     "name": "#%%\n"
    }
   }
  },
  {
   "cell_type": "code",
   "execution_count": 117,
   "outputs": [],
   "source": [
    "# DataLoader\n",
    "from torch.utils.data import DataLoader\n",
    "\n",
    "batch_size = 128\n",
    "\n",
    "train_loader = DataLoader(train_ds, batch_size, shuffle=True)\n",
    "val_loader = DataLoader(val_ds, batch_size, shuffle=True)"
   ],
   "metadata": {
    "collapsed": false,
    "pycharm": {
     "name": "#%%\n"
    }
   }
  },
  {
   "cell_type": "markdown",
   "source": [
    "## Logistic regression model\n",
    "* almost like linear regression\n",
    "* we **flatten** the 1x28x28 image tensor to 784\n",
    "* output is vector of size 10, signifying the probability of target label(from 0 to 9)"
   ],
   "metadata": {
    "collapsed": false,
    "pycharm": {
     "name": "#%% md\n"
    }
   }
  },
  {
   "cell_type": "code",
   "execution_count": 118,
   "outputs": [],
   "source": [
    "import torch.nn as nn\n",
    "\n",
    "input_size = 1*28*28\n",
    "num_classes = 10\n",
    "\n",
    "# Logistic regression model\n",
    "model = nn.Linear(input_size, num_classes)"
   ],
   "metadata": {
    "collapsed": false,
    "pycharm": {
     "name": "#%%\n"
    }
   }
  },
  {
   "cell_type": "code",
   "execution_count": 119,
   "outputs": [
    {
     "name": "stdout",
     "output_type": "stream",
     "text": [
      "weight:\n",
      "torch.Size([10, 784])\n",
      "Parameter containing:\n",
      "tensor([[-0.0347, -0.0301, -0.0073,  ...,  0.0262,  0.0319,  0.0213],\n",
      "        [ 0.0260,  0.0300,  0.0127,  ..., -0.0169,  0.0012,  0.0079],\n",
      "        [-0.0166, -0.0157,  0.0162,  ...,  0.0108, -0.0077, -0.0246],\n",
      "        ...,\n",
      "        [-0.0229, -0.0093,  0.0236,  ..., -0.0345, -0.0288,  0.0030],\n",
      "        [ 0.0309,  0.0052, -0.0119,  ..., -0.0258,  0.0255, -0.0114],\n",
      "        [ 0.0062, -0.0209, -0.0189,  ...,  0.0334, -0.0210, -0.0031]],\n",
      "       requires_grad=True)\n",
      "\n",
      "bias:\n",
      "torch.Size([10])\n",
      "Parameter containing:\n",
      "tensor([ 0.0130, -0.0276, -0.0009, -0.0019,  0.0214, -0.0306, -0.0144,  0.0006,\n",
      "         0.0266,  0.0258], requires_grad=True)\n"
     ]
    }
   ],
   "source": [
    "# checkout the weight and bias\n",
    "print(\"weight:\")\n",
    "print(model.weight.shape)\n",
    "print(model.weight)\n",
    "\n",
    "print()\n",
    "print('bias:')\n",
    "print(model.bias.shape)\n",
    "print(model.bias)\n"
   ],
   "metadata": {
    "collapsed": false,
    "pycharm": {
     "name": "#%%\n"
    }
   }
  },
  {
   "cell_type": "code",
   "execution_count": 120,
   "outputs": [
    {
     "name": "stdout",
     "output_type": "stream",
     "text": [
      "tensor([0, 5, 7, 4, 8, 5, 6, 0, 8, 8, 0, 4, 4, 3, 3, 5, 4, 3, 3, 1, 2, 5, 6, 3,\n",
      "        5, 4, 3, 3, 9, 4, 9, 7, 6, 9, 6, 1, 3, 3, 1, 1, 4, 7, 2, 8, 5, 9, 6, 6,\n",
      "        9, 1, 3, 4, 3, 6, 9, 7, 8, 9, 3, 9, 2, 6, 0, 9, 8, 0, 8, 0, 7, 7, 1, 6,\n",
      "        6, 4, 4, 9, 7, 1, 2, 8, 0, 6, 9, 1, 2, 9, 1, 8, 3, 3, 6, 0, 0, 4, 6, 5,\n",
      "        1, 3, 9, 2, 2, 2, 9, 1, 1, 4, 9, 4, 1, 3, 1, 3, 4, 6, 7, 2, 2, 2, 9, 1,\n",
      "        0, 6, 0, 2, 1, 2, 9, 6])\n",
      "torch.Size([128, 1, 28, 28])\n"
     ]
    },
    {
     "ename": "RuntimeError",
     "evalue": "mat1 and mat2 shapes cannot be multiplied (3584x28 and 784x10)",
     "output_type": "error",
     "traceback": [
      "\u001B[0;31m---------------------------------------------------------------------------\u001B[0m",
      "\u001B[0;31mRuntimeError\u001B[0m                              Traceback (most recent call last)",
      "\u001B[0;32m<ipython-input-120-b068d2074c9a>\u001B[0m in \u001B[0;36m<module>\u001B[0;34m\u001B[0m\n\u001B[1;32m      5\u001B[0m \u001B[0;34m\u001B[0m\u001B[0m\n\u001B[1;32m      6\u001B[0m     \u001B[0;31m# because the size of input has not been flatten\u001B[0m\u001B[0;34m\u001B[0m\u001B[0;34m\u001B[0m\u001B[0;34m\u001B[0m\u001B[0m\n\u001B[0;32m----> 7\u001B[0;31m     \u001B[0moutputs\u001B[0m \u001B[0;34m=\u001B[0m \u001B[0mmodel\u001B[0m\u001B[0;34m(\u001B[0m\u001B[0mimages\u001B[0m\u001B[0;34m)\u001B[0m\u001B[0;34m\u001B[0m\u001B[0;34m\u001B[0m\u001B[0m\n\u001B[0m\u001B[1;32m      8\u001B[0m     \u001B[0;32mbreak\u001B[0m\u001B[0;34m\u001B[0m\u001B[0;34m\u001B[0m\u001B[0m\n\u001B[1;32m      9\u001B[0m \u001B[0;34m\u001B[0m\u001B[0m\n",
      "\u001B[0;32m~/anaconda3/envs/torch-env/lib/python3.6/site-packages/torch/nn/modules/module.py\u001B[0m in \u001B[0;36m_call_impl\u001B[0;34m(self, *input, **kwargs)\u001B[0m\n\u001B[1;32m   1049\u001B[0m         if not (self._backward_hooks or self._forward_hooks or self._forward_pre_hooks or _global_backward_hooks\n\u001B[1;32m   1050\u001B[0m                 or _global_forward_hooks or _global_forward_pre_hooks):\n\u001B[0;32m-> 1051\u001B[0;31m             \u001B[0;32mreturn\u001B[0m \u001B[0mforward_call\u001B[0m\u001B[0;34m(\u001B[0m\u001B[0;34m*\u001B[0m\u001B[0minput\u001B[0m\u001B[0;34m,\u001B[0m \u001B[0;34m**\u001B[0m\u001B[0mkwargs\u001B[0m\u001B[0;34m)\u001B[0m\u001B[0;34m\u001B[0m\u001B[0;34m\u001B[0m\u001B[0m\n\u001B[0m\u001B[1;32m   1052\u001B[0m         \u001B[0;31m# Do not call functions when jit is used\u001B[0m\u001B[0;34m\u001B[0m\u001B[0;34m\u001B[0m\u001B[0;34m\u001B[0m\u001B[0m\n\u001B[1;32m   1053\u001B[0m         \u001B[0mfull_backward_hooks\u001B[0m\u001B[0;34m,\u001B[0m \u001B[0mnon_full_backward_hooks\u001B[0m \u001B[0;34m=\u001B[0m \u001B[0;34m[\u001B[0m\u001B[0;34m]\u001B[0m\u001B[0;34m,\u001B[0m \u001B[0;34m[\u001B[0m\u001B[0;34m]\u001B[0m\u001B[0;34m\u001B[0m\u001B[0;34m\u001B[0m\u001B[0m\n",
      "\u001B[0;32m~/anaconda3/envs/torch-env/lib/python3.6/site-packages/torch/nn/modules/linear.py\u001B[0m in \u001B[0;36mforward\u001B[0;34m(self, input)\u001B[0m\n\u001B[1;32m     94\u001B[0m \u001B[0;34m\u001B[0m\u001B[0m\n\u001B[1;32m     95\u001B[0m     \u001B[0;32mdef\u001B[0m \u001B[0mforward\u001B[0m\u001B[0;34m(\u001B[0m\u001B[0mself\u001B[0m\u001B[0;34m,\u001B[0m \u001B[0minput\u001B[0m\u001B[0;34m:\u001B[0m \u001B[0mTensor\u001B[0m\u001B[0;34m)\u001B[0m \u001B[0;34m->\u001B[0m \u001B[0mTensor\u001B[0m\u001B[0;34m:\u001B[0m\u001B[0;34m\u001B[0m\u001B[0;34m\u001B[0m\u001B[0m\n\u001B[0;32m---> 96\u001B[0;31m         \u001B[0;32mreturn\u001B[0m \u001B[0mF\u001B[0m\u001B[0;34m.\u001B[0m\u001B[0mlinear\u001B[0m\u001B[0;34m(\u001B[0m\u001B[0minput\u001B[0m\u001B[0;34m,\u001B[0m \u001B[0mself\u001B[0m\u001B[0;34m.\u001B[0m\u001B[0mweight\u001B[0m\u001B[0;34m,\u001B[0m \u001B[0mself\u001B[0m\u001B[0;34m.\u001B[0m\u001B[0mbias\u001B[0m\u001B[0;34m)\u001B[0m\u001B[0;34m\u001B[0m\u001B[0;34m\u001B[0m\u001B[0m\n\u001B[0m\u001B[1;32m     97\u001B[0m \u001B[0;34m\u001B[0m\u001B[0m\n\u001B[1;32m     98\u001B[0m     \u001B[0;32mdef\u001B[0m \u001B[0mextra_repr\u001B[0m\u001B[0;34m(\u001B[0m\u001B[0mself\u001B[0m\u001B[0;34m)\u001B[0m \u001B[0;34m->\u001B[0m \u001B[0mstr\u001B[0m\u001B[0;34m:\u001B[0m\u001B[0;34m\u001B[0m\u001B[0;34m\u001B[0m\u001B[0m\n",
      "\u001B[0;32m~/anaconda3/envs/torch-env/lib/python3.6/site-packages/torch/nn/functional.py\u001B[0m in \u001B[0;36mlinear\u001B[0;34m(input, weight, bias)\u001B[0m\n\u001B[1;32m   1845\u001B[0m     \u001B[0;32mif\u001B[0m \u001B[0mhas_torch_function_variadic\u001B[0m\u001B[0;34m(\u001B[0m\u001B[0minput\u001B[0m\u001B[0;34m,\u001B[0m \u001B[0mweight\u001B[0m\u001B[0;34m)\u001B[0m\u001B[0;34m:\u001B[0m\u001B[0;34m\u001B[0m\u001B[0;34m\u001B[0m\u001B[0m\n\u001B[1;32m   1846\u001B[0m         \u001B[0;32mreturn\u001B[0m \u001B[0mhandle_torch_function\u001B[0m\u001B[0;34m(\u001B[0m\u001B[0mlinear\u001B[0m\u001B[0;34m,\u001B[0m \u001B[0;34m(\u001B[0m\u001B[0minput\u001B[0m\u001B[0;34m,\u001B[0m \u001B[0mweight\u001B[0m\u001B[0;34m)\u001B[0m\u001B[0;34m,\u001B[0m \u001B[0minput\u001B[0m\u001B[0;34m,\u001B[0m \u001B[0mweight\u001B[0m\u001B[0;34m,\u001B[0m \u001B[0mbias\u001B[0m\u001B[0;34m=\u001B[0m\u001B[0mbias\u001B[0m\u001B[0;34m)\u001B[0m\u001B[0;34m\u001B[0m\u001B[0;34m\u001B[0m\u001B[0m\n\u001B[0;32m-> 1847\u001B[0;31m     \u001B[0;32mreturn\u001B[0m \u001B[0mtorch\u001B[0m\u001B[0;34m.\u001B[0m\u001B[0m_C\u001B[0m\u001B[0;34m.\u001B[0m\u001B[0m_nn\u001B[0m\u001B[0;34m.\u001B[0m\u001B[0mlinear\u001B[0m\u001B[0;34m(\u001B[0m\u001B[0minput\u001B[0m\u001B[0;34m,\u001B[0m \u001B[0mweight\u001B[0m\u001B[0;34m,\u001B[0m \u001B[0mbias\u001B[0m\u001B[0;34m)\u001B[0m\u001B[0;34m\u001B[0m\u001B[0;34m\u001B[0m\u001B[0m\n\u001B[0m\u001B[1;32m   1848\u001B[0m \u001B[0;34m\u001B[0m\u001B[0m\n\u001B[1;32m   1849\u001B[0m \u001B[0;34m\u001B[0m\u001B[0m\n",
      "\u001B[0;31mRuntimeError\u001B[0m: mat1 and mat2 shapes cannot be multiplied (3584x28 and 784x10)"
     ]
    }
   ],
   "source": [
    "# print every label\n",
    "for images, labels in train_loader:\n",
    "    print(labels)\n",
    "    print(images.shape)\n",
    "\n",
    "    # because the size of input has not been flatten\n",
    "    outputs = model(images)\n",
    "    break"
   ],
   "metadata": {
    "collapsed": false,
    "pycharm": {
     "name": "#%%\n"
    }
   }
  },
  {
   "cell_type": "code",
   "execution_count": 121,
   "outputs": [],
   "source": [
    "# we make a model wrap linear model\n",
    "# and we flatten first and put into linear model after\n",
    "class MnistModel(nn.Module):\n",
    "    def __init__(self):\n",
    "        super().__init__()\n",
    "        self.linear = nn.Linear(input_size, num_classes)\n",
    "\n",
    "    def forward(self, xb):\n",
    "\n",
    "        # -1 means x, a variable\n",
    "        xb = xb.reshape(-1, 784)\n",
    "        out = self.linear(xb)\n",
    "\n",
    "        return out\n",
    "\n",
    "model = MnistModel()"
   ],
   "metadata": {
    "collapsed": false,
    "pycharm": {
     "name": "#%%\n"
    }
   }
  },
  {
   "cell_type": "code",
   "execution_count": 122,
   "outputs": [
    {
     "name": "stdout",
     "output_type": "stream",
     "text": [
      "outputs.shape :  torch.Size([128, 10])\n",
      "Smaple outputs : \n",
      " tensor([ 0.3996, -0.3318, -0.1151,  0.2781, -0.0193,  0.2117, -0.1346,  0.3927,\n",
      "        -0.1248, -0.0184], grad_fn=<SelectBackward>)\n"
     ]
    }
   ],
   "source": [
    "for images, labels in train_loader:\n",
    "    outputs = model(images)\n",
    "    break\n",
    "\n",
    "print('outputs.shape : ', outputs.shape)\n",
    "print('Smaple outputs : \\n', outputs[0])"
   ],
   "metadata": {
    "collapsed": false,
    "pycharm": {
     "name": "#%%\n"
    }
   }
  },
  {
   "cell_type": "markdown",
   "source": [
    "The output we expect to get is the probabilities.\n",
    "However, the output here significantly is not probabilities.\n",
    "\n",
    "So we can put it into **Softmax**\n",
    "Convert logic score to probabilities."
   ],
   "metadata": {
    "collapsed": false,
    "pycharm": {
     "name": "#%% md\n"
    }
   }
  },
  {
   "cell_type": "code",
   "execution_count": 123,
   "outputs": [
    {
     "name": "stdout",
     "output_type": "stream",
     "text": [
      "Sample prob : \n",
      " tensor([0.1374, 0.0661, 0.0821, 0.1216, 0.0903, 0.1138, 0.0805, 0.1364, 0.0813,\n",
      "        0.0904])\n",
      "Sum:  1.0\n"
     ]
    }
   ],
   "source": [
    "import  torch.nn.functional as F\n",
    "\n",
    "probs = F.softmax(outputs, dim=1)\n",
    "# checkout sample prob.\n",
    "print(\"Sample prob : \\n\", probs[0].data)\n",
    "\n",
    "# add up the prob of an output row\n",
    "# verify if equal to 1\n",
    "print('Sum: ', torch.sum(probs[0]).item())"
   ],
   "metadata": {
    "collapsed": false,
    "pycharm": {
     "name": "#%%\n"
    }
   }
  },
  {
   "cell_type": "code",
   "execution_count": 124,
   "outputs": [
    {
     "name": "stdout",
     "output_type": "stream",
     "text": [
      "tensor([0, 7, 7, 3, 3, 5, 7, 1, 5, 0, 0, 3, 7, 5, 3, 7, 3, 7, 3, 7, 3, 3, 3, 3,\n",
      "        3, 7, 7, 3, 3, 7, 3, 3, 7, 7, 7, 7, 7, 3, 5, 3, 7, 4, 0, 3, 3, 3, 3, 7,\n",
      "        7, 3, 8, 3, 7, 3, 3, 3, 7, 3, 9, 3, 3, 5, 0, 0, 7, 0, 3, 7, 3, 7, 7, 3,\n",
      "        7, 7, 3, 3, 0, 3, 8, 3, 7, 3, 3, 3, 3, 3, 3, 7, 7, 1, 7, 0, 7, 3, 0, 3,\n",
      "        3, 8, 7, 3, 7, 9, 3, 3, 3, 3, 0, 0, 7, 7, 3, 0, 7, 7, 3, 3, 4, 3, 2, 3,\n",
      "        7, 7, 0, 3, 7, 3, 3, 3])\n",
      "tensor([0.1374, 0.1346, 0.1408, 0.1430, 0.1759, 0.1287, 0.1491, 0.1297, 0.1295,\n",
      "        0.1488, 0.1245, 0.1361, 0.1195, 0.1434, 0.1724, 0.1367, 0.1552, 0.1460,\n",
      "        0.1404, 0.1354, 0.1530, 0.1535, 0.1634, 0.1757, 0.1238, 0.1509, 0.1594,\n",
      "        0.1715, 0.1443, 0.1360, 0.1505, 0.1226, 0.1658, 0.1400, 0.1455, 0.1237,\n",
      "        0.1238, 0.1600, 0.1205, 0.1470, 0.1545, 0.1332, 0.1310, 0.1549, 0.1239,\n",
      "        0.1488, 0.1498, 0.1604, 0.1280, 0.1550, 0.1299, 0.1525, 0.1317, 0.1765,\n",
      "        0.1415, 0.2003, 0.1270, 0.1539, 0.1621, 0.1536, 0.1623, 0.1390, 0.1531,\n",
      "        0.1187, 0.1410, 0.1402, 0.1271, 0.1420, 0.1732, 0.1414, 0.1442, 0.1268,\n",
      "        0.1437, 0.1437, 0.1295, 0.1255, 0.1295, 0.1698, 0.1238, 0.1330, 0.1452,\n",
      "        0.1346, 0.1296, 0.1330, 0.1470, 0.1399, 0.1439, 0.1591, 0.1322, 0.1310,\n",
      "        0.1316, 0.1209, 0.1404, 0.1319, 0.1301, 0.1295, 0.1369, 0.1272, 0.1390,\n",
      "        0.1445, 0.1505, 0.1215, 0.1314, 0.1693, 0.1587, 0.1447, 0.1185, 0.1250,\n",
      "        0.1411, 0.1473, 0.1669, 0.1285, 0.1384, 0.1326, 0.1533, 0.1741, 0.1286,\n",
      "        0.1479, 0.1304, 0.1390, 0.1348, 0.1456, 0.1412, 0.1264, 0.1275, 0.1435,\n",
      "        0.1523, 0.1294], grad_fn=<MaxBackward0>)\n"
     ]
    }
   ],
   "source": [
    "max_probs, preds = torch.max(probs, dim=1)\n",
    "print(preds)\n",
    "print(max_probs)"
   ],
   "metadata": {
    "collapsed": false,
    "pycharm": {
     "name": "#%%\n"
    }
   }
  },
  {
   "cell_type": "markdown",
   "source": [
    "## Evaluation Metric and Loss\n",
    "we use accuracy here for evaluation metric.\n",
    "\n",
    "acc is a great way for humans to evaluate model\n",
    "however it can't use as a loss function by non-differentiable.\n",
    "\n",
    "so we use **Cross entropy** in real loss function"
   ],
   "metadata": {
    "collapsed": false,
    "pycharm": {
     "name": "#%% md\n"
    }
   }
  },
  {
   "cell_type": "code",
   "execution_count": 125,
   "outputs": [
    {
     "data": {
      "text/plain": "0.0703125"
     },
     "execution_count": 125,
     "metadata": {},
     "output_type": "execute_result"
    }
   ],
   "source": [
    "def accuracy(label_pred, label_targ):\n",
    "    return torch.sum(label_pred == label_targ).item() / len(label_pred)\n",
    "\n",
    "accuracy(preds, labels)"
   ],
   "metadata": {
    "collapsed": false,
    "pycharm": {
     "name": "#%%\n"
    }
   }
  },
  {
   "cell_type": "code",
   "execution_count": 126,
   "outputs": [
    {
     "name": "stdout",
     "output_type": "stream",
     "text": [
      "tensor(2.3844, grad_fn=<NllLossBackward>)\n"
     ]
    }
   ],
   "source": [
    "loss_fn = F.cross_entropy\n",
    "\n",
    "# F.cross_entropy average all the cross entropy of output\n",
    "loss = loss_fn(outputs, labels)\n",
    "print(loss)"
   ],
   "metadata": {
    "collapsed": false,
    "pycharm": {
     "name": "#%%\n"
    }
   }
  },
  {
   "cell_type": "markdown",
   "source": [
    "## Optimizer\n",
    "`optim.SGD` here"
   ],
   "metadata": {
    "collapsed": false,
    "pycharm": {
     "name": "#%% md\n"
    }
   }
  },
  {
   "cell_type": "code",
   "execution_count": 127,
   "outputs": [],
   "source": [
    "learning_rate = 0.001\n",
    "optimizer = torch.optim.SGD(model.parameters(), lr = learning_rate)"
   ],
   "metadata": {
    "collapsed": false,
    "pycharm": {
     "name": "#%%\n"
    }
   }
  },
  {
   "cell_type": "markdown",
   "source": [
    "## Calculate Loss and Evaluate"
   ],
   "metadata": {
    "collapsed": false,
    "pycharm": {
     "name": "#%% md\n"
    }
   }
  },
  {
   "cell_type": "code",
   "execution_count": 145,
   "outputs": [],
   "source": [
    "def loss_batch(model, loss_func, xb, yb, opt=None, metric=None):\n",
    "\n",
    "    preds = model(xb)\n",
    "    loss = loss_func(preds, yb)\n",
    "    # loss_func return a 1d tensor\n",
    "    # we can get value by loss.item()\n",
    "\n",
    "    if opt is not None:\n",
    "        # compute gradient\n",
    "        loss.backward()\n",
    "        # optimizer upgrade params\n",
    "        opt.step()\n",
    "        # reset gradient\n",
    "        opt.zero_grad()\n",
    "\n",
    "    metric_result = None\n",
    "    if metric is not None:\n",
    "\n",
    "        metric_result = metric(preds, yb)\n",
    "\n",
    "    return loss.item(), len(xb), metric_result"
   ],
   "metadata": {
    "collapsed": false,
    "pycharm": {
     "name": "#%%\n"
    }
   }
  },
  {
   "cell_type": "code",
   "execution_count": 152,
   "outputs": [],
   "source": [
    "def evaluate(model, loss_func, valid_dataloader, metric=None):\n",
    "    # temporarily set requires_grad to false\n",
    "    with torch.no_grad():\n",
    "\n",
    "        # results is a list of results\n",
    "        # results = [(loss, len of batch ,metric) ... ]\n",
    "        results = [loss_batch(model, loss_func, xb, yb, metric=metric)\n",
    "                    for xb, yb in valid_dataloader]\n",
    "\n",
    "        # take one list of 3 element tuple (loss, len, metric)\n",
    "        # to 3 list\n",
    "        losses, nums, metrics = zip(*results)\n",
    "\n",
    "        total= np.sum(nums)\n",
    "\n",
    "        avg_loss = np.sum(np.multiply(losses, nums)) / total\n",
    "        avg_metric = None\n",
    "        if metric is not None:\n",
    "\n",
    "            avg_metric = np.sum(np.multiply(metrics, nums)) / total\n",
    "\n",
    "        return avg_loss, total, avg_metric"
   ],
   "metadata": {
    "collapsed": false,
    "pycharm": {
     "name": "#%%\n"
    }
   }
  },
  {
   "cell_type": "code",
   "execution_count": 130,
   "outputs": [],
   "source": [
    "def accuracy(outputs, labels):\n",
    "    _, preds = torch.max(outputs, dim=1)\n",
    "    return torch.sum(preds == labels).item() / len(preds)"
   ],
   "metadata": {
    "collapsed": false,
    "pycharm": {
     "name": "#%%\n"
    }
   }
  },
  {
   "cell_type": "code",
   "execution_count": 150,
   "outputs": [
    {
     "name": "stdout",
     "output_type": "stream",
     "text": [
      "<zip object at 0x7f16bbe33308>\n",
      "Loss: 1.1939, Accuracy: 81.04%\n"
     ]
    }
   ],
   "source": [
    "val_loss, total, val_acc = evaluate(model, loss_fn,val_loader, metric=accuracy)\n",
    "print('Loss: {:.4f}, Accuracy: {:.2f}%'.format(val_loss, val_acc*100))"
   ],
   "metadata": {
    "collapsed": false,
    "pycharm": {
     "name": "#%%\n"
    }
   }
  },
  {
   "cell_type": "markdown",
   "source": [
    "## Training"
   ],
   "metadata": {
    "collapsed": false,
    "pycharm": {
     "name": "#%% md\n"
    }
   }
  },
  {
   "cell_type": "code",
   "execution_count": 132,
   "outputs": [],
   "source": [
    "def fit(epochs, model, loss_fn, opt, train_dataloader, valid_dataloader, metric=None):\n",
    "    for epoch in range(epochs):\n",
    "        # Training\n",
    "        for xb, yb in train_dataloader:\n",
    "            loss, _, _ = loss_batch(model, loss_fn, xb, yb, opt)\n",
    "\n",
    "        # Evaluation\n",
    "        result = evaluate(model, loss_fn, valid_dataloader, metric)\n",
    "        val_loss, total, val_metric = result\n",
    "\n",
    "        # print progress\n",
    "        if metric is None:\n",
    "            print('Epoch [{}/{}], Loss: {:.4f}'\n",
    "                    .format(epoch+1, epochs, val_loss))\n",
    "\n",
    "        else:\n",
    "            print('Epoch [{}/{}], Loss: {:.4f}, {}: {:.4f}'\n",
    "                    .format(epoch+1, epochs, val_loss, metric.__name__, val_metric))"
   ],
   "metadata": {
    "collapsed": false,
    "pycharm": {
     "name": "#%%\n"
    }
   }
  },
  {
   "cell_type": "code",
   "execution_count": 153,
   "outputs": [
    {
     "name": "stdout",
     "output_type": "stream",
     "text": [
      "Epoch [1/5], Loss: 1.9680, accuracy: 0.5521\n",
      "Epoch [2/5], Loss: 1.6934, accuracy: 0.7249\n",
      "Epoch [3/5], Loss: 1.4875, accuracy: 0.7677\n",
      "Epoch [4/5], Loss: 1.3318, accuracy: 0.7906\n",
      "Epoch [5/5], Loss: 1.2121, accuracy: 0.8058\n"
     ]
    }
   ],
   "source": [
    "model = MnistModel()\n",
    "optimizer = torch.optim.SGD(model.parameters(), lr=learning_rate)\n",
    "\n",
    "fit(epochs=5,\n",
    "    model=model,\n",
    "    loss_fn=F.cross_entropy,\n",
    "    opt=optimizer,\n",
    "    train_dataloader=train_loader,\n",
    "    valid_dataloader=val_loader,\n",
    "    metric=accuracy)\n"
   ],
   "metadata": {
    "collapsed": false,
    "pycharm": {
     "name": "#%%\n"
    }
   }
  },
  {
   "cell_type": "markdown",
   "source": [
    "## Testing Single IMAGE"
   ],
   "metadata": {
    "collapsed": false,
    "pycharm": {
     "name": "#%% md\n"
    }
   }
  },
  {
   "cell_type": "code",
   "execution_count": 134,
   "outputs": [],
   "source": [
    "test_dataset = MNIST(root='data/',\n",
    "                     train=False,\n",
    "                     transform=transforms.ToTensor())"
   ],
   "metadata": {
    "collapsed": false,
    "pycharm": {
     "name": "#%%\n"
    }
   }
  },
  {
   "cell_type": "code",
   "execution_count": 135,
   "outputs": [],
   "source": [
    "def predict_image(img, model):\n",
    "    xb = img.unsqueeze(0)\n",
    "    yb = model(xb)\n",
    "    _, preds = torch.max(yb, dim=1)\n",
    "    return preds[0].item()"
   ],
   "metadata": {
    "collapsed": false,
    "pycharm": {
     "name": "#%%\n"
    }
   }
  },
  {
   "cell_type": "code",
   "execution_count": 136,
   "outputs": [
    {
     "name": "stdout",
     "output_type": "stream",
     "text": [
      "Label: 7 Predicted: 7\n",
      "Label: 0 Predicted: 0\n",
      "Label: 9 Predicted: 7\n",
      "Label: 6 Predicted: 6\n",
      "Label: 2 Predicted: 7\n"
     ]
    },
    {
     "data": {
      "text/plain": "<Figure size 432x288 with 1 Axes>",
      "image/png": "[encoded data removed]"
     },
     "metadata": {
      "needs_background": "light"
     },
     "output_type": "display_data"
    },
    {
     "data": {
      "text/plain": "<Figure size 432x288 with 1 Axes>",
      "image/png": "[encoded data removed]"
     },
     "metadata": {
      "needs_background": "light"
     },
     "output_type": "display_data"
    },
    {
     "data": {
      "text/plain": "<Figure size 432x288 with 1 Axes>",
      "image/png": "[encoded data removed]"
     },
     "metadata": {
      "needs_background": "light"
     },
     "output_type": "display_data"
    },
    {
     "data": {
      "text/plain": "<Figure size 432x288 with 1 Axes>",
      "image/png": "[encoded data removed]"
     },
     "metadata": {
      "needs_background": "light"
     },
     "output_type": "display_data"
    },
    {
     "data": {
      "text/plain": "<Figure size 432x288 with 1 Axes>",
      "image/png": "[encoded data removed]"
     },
     "metadata": {
      "needs_background": "light"
     },
     "output_type": "display_data"
    }
   ],
   "source": [
    "test_index = [0, 10, 20, 50, 77]\n",
    "\n",
    "for i in test_index:\n",
    "    img, label = test_dataset[i]\n",
    "    plt.figure()\n",
    "    plt.imshow(img[0], cmap='gray')\n",
    "    print('Label:', label, 'Predicted:', predict_image(img, model) )"
   ],
   "metadata": {
    "collapsed": false,
    "pycharm": {
     "name": "#%%\n"
    }
   }
  },
  {
   "cell_type": "markdown",
   "source": [
    "## Get final test result"
   ],
   "metadata": {
    "collapsed": false,
    "pycharm": {
     "name": "#%% md\n"
    }
   }
  },
  {
   "cell_type": "code",
   "execution_count": 137,
   "outputs": [
    {
     "name": "stdout",
     "output_type": "stream",
     "text": [
      "tensor(1.2483)\n",
      "tensor(1.2690)\n",
      "tensor(1.2672)\n",
      "tensor(1.2134)\n",
      "tensor(1.3515)\n",
      "tensor(1.2967)\n",
      "tensor(1.3179)\n",
      "tensor(1.2690)\n",
      "tensor(1.3504)\n",
      "tensor(1.2549)\n",
      "tensor(1.2626)\n",
      "tensor(1.2342)\n",
      "tensor(1.2422)\n",
      "tensor(1.2766)\n",
      "tensor(1.3124)\n",
      "tensor(1.2617)\n",
      "tensor(1.2980)\n",
      "tensor(1.2981)\n",
      "tensor(1.2568)\n",
      "tensor(1.1955)\n",
      "tensor(1.0410)\n",
      "tensor(1.0316)\n",
      "tensor(1.0614)\n",
      "tensor(1.1816)\n",
      "tensor(0.9091)\n",
      "tensor(1.1827)\n",
      "tensor(1.1883)\n",
      "tensor(1.0636)\n",
      "tensor(1.1163)\n",
      "tensor(1.2408)\n",
      "tensor(1.0151)\n",
      "tensor(0.9845)\n",
      "tensor(1.1326)\n",
      "tensor(0.9758)\n",
      "tensor(0.8823)\n",
      "tensor(1.1036)\n",
      "tensor(1.0624)\n",
      "tensor(1.1760)\n",
      "tensor(1.3915)\n",
      "tensor(1.0143)\n",
      "(1.1847789430618285, 10000, 0.8131)\n",
      "Acc: 81.31%\n"
     ]
    }
   ],
   "source": [
    "test_loader = DataLoader(test_dataset, batch_size = 256)\n",
    "result = evaluate(model,\n",
    "                  loss_func=loss_fn,\n",
    "                  valid_dataloader=test_loader,\n",
    "                  metric=accuracy)\n",
    "\n",
    "print(result)\n",
    "print('Acc: {:.2f}%'.format(result[2]*100))"
   ],
   "metadata": {
    "collapsed": false,
    "pycharm": {
     "name": "#%%\n"
    }
   }
  },
  {
   "cell_type": "markdown",
   "source": [
    "## Save the model"
   ],
   "metadata": {
    "collapsed": false,
    "pycharm": {
     "name": "#%% md\n"
    }
   }
  },
  {
   "cell_type": "code",
   "execution_count": 138,
   "outputs": [
    {
     "name": "stdout",
     "output_type": "stream",
     "text": [
      "OrderedDict([('linear.weight', tensor([[-0.0264, -0.0056, -0.0250,  ...,  0.0090,  0.0248,  0.0032],\n",
      "        [ 0.0052, -0.0100,  0.0231,  ..., -0.0211,  0.0235, -0.0266],\n",
      "        [-0.0311, -0.0286, -0.0323,  ...,  0.0209,  0.0158,  0.0267],\n",
      "        ...,\n",
      "        [ 0.0016,  0.0218,  0.0058,  ..., -0.0267, -0.0077, -0.0240],\n",
      "        [ 0.0088, -0.0313,  0.0114,  ..., -0.0175, -0.0028,  0.0047],\n",
      "        [-0.0187,  0.0203, -0.0165,  ..., -0.0348,  0.0162, -0.0183]])), ('linear.bias', tensor([ 0.0065,  0.0107, -0.0078, -0.0085,  0.0108, -0.0102,  0.0034,  0.0156,\n",
      "        -0.0098,  0.0006]))])\n"
     ]
    }
   ],
   "source": [
    "model_file_name = 'mnist-logistic.pth'\n",
    "torch.save(model.state_dict(), model_file_name)\n",
    "print(model.state_dict())"
   ],
   "metadata": {
    "collapsed": false,
    "pycharm": {
     "name": "#%%\n"
    }
   }
  },
  {
   "cell_type": "code",
   "execution_count": 139,
   "outputs": [
    {
     "name": "stdout",
     "output_type": "stream",
     "text": [
      "OrderedDict([('linear.weight', tensor([[-0.0132, -0.0104, -0.0161,  ...,  0.0347,  0.0269,  0.0281],\n",
      "        [ 0.0023, -0.0124, -0.0353,  ...,  0.0222,  0.0188,  0.0083],\n",
      "        [ 0.0322, -0.0269, -0.0051,  ..., -0.0013,  0.0223,  0.0067],\n",
      "        ...,\n",
      "        [-0.0176, -0.0015, -0.0101,  ...,  0.0033,  0.0297,  0.0320],\n",
      "        [-0.0347,  0.0138, -0.0045,  ..., -0.0010,  0.0239, -0.0054],\n",
      "        [ 0.0196,  0.0295, -0.0173,  ...,  0.0246, -0.0071,  0.0124]])), ('linear.bias', tensor([ 0.0138, -0.0223,  0.0276,  0.0245,  0.0177, -0.0143,  0.0182,  0.0046,\n",
      "         0.0051,  0.0173]))])\n",
      "tensor(2.2995)\n",
      "tensor(2.2681)\n",
      "tensor(2.2853)\n",
      "tensor(2.2688)\n",
      "tensor(2.2968)\n",
      "tensor(2.2626)\n",
      "tensor(2.2877)\n",
      "tensor(2.2849)\n",
      "tensor(2.2796)\n",
      "tensor(2.2647)\n",
      "tensor(2.2727)\n",
      "tensor(2.2880)\n",
      "tensor(2.2776)\n",
      "tensor(2.2821)\n",
      "tensor(2.2776)\n",
      "tensor(2.2823)\n",
      "tensor(2.2782)\n",
      "tensor(2.2861)\n",
      "tensor(2.2862)\n",
      "tensor(2.2702)\n",
      "tensor(2.2620)\n",
      "tensor(2.2650)\n",
      "tensor(2.2539)\n",
      "tensor(2.2485)\n",
      "tensor(2.3063)\n",
      "tensor(2.2977)\n",
      "tensor(2.3074)\n",
      "tensor(2.3069)\n",
      "tensor(2.2854)\n",
      "tensor(2.2952)\n",
      "tensor(2.2809)\n",
      "tensor(2.2865)\n",
      "tensor(2.3313)\n",
      "tensor(2.2757)\n",
      "tensor(2.2886)\n",
      "tensor(2.2833)\n",
      "tensor(2.2786)\n",
      "tensor(2.3096)\n",
      "tensor(2.2912)\n",
      "tensor(2.2526)\n",
      "Origin Acc: 13.02%\n",
      "\n",
      "OrderedDict([('linear.weight', tensor([[-0.0264, -0.0056, -0.0250,  ...,  0.0090,  0.0248,  0.0032],\n",
      "        [ 0.0052, -0.0100,  0.0231,  ..., -0.0211,  0.0235, -0.0266],\n",
      "        [-0.0311, -0.0286, -0.0323,  ...,  0.0209,  0.0158,  0.0267],\n",
      "        ...,\n",
      "        [ 0.0016,  0.0218,  0.0058,  ..., -0.0267, -0.0077, -0.0240],\n",
      "        [ 0.0088, -0.0313,  0.0114,  ..., -0.0175, -0.0028,  0.0047],\n",
      "        [-0.0187,  0.0203, -0.0165,  ..., -0.0348,  0.0162, -0.0183]])), ('linear.bias', tensor([ 0.0065,  0.0107, -0.0078, -0.0085,  0.0108, -0.0102,  0.0034,  0.0156,\n",
      "        -0.0098,  0.0006]))])\n",
      "tensor(1.2483)\n",
      "tensor(1.2690)\n",
      "tensor(1.2672)\n",
      "tensor(1.2134)\n",
      "tensor(1.3515)\n",
      "tensor(1.2967)\n",
      "tensor(1.3179)\n",
      "tensor(1.2690)\n",
      "tensor(1.3504)\n",
      "tensor(1.2549)\n",
      "tensor(1.2626)\n",
      "tensor(1.2342)\n",
      "tensor(1.2422)\n",
      "tensor(1.2766)\n",
      "tensor(1.3124)\n",
      "tensor(1.2617)\n",
      "tensor(1.2980)\n",
      "tensor(1.2981)\n",
      "tensor(1.2568)\n",
      "tensor(1.1955)\n",
      "tensor(1.0410)\n",
      "tensor(1.0316)\n",
      "tensor(1.0614)\n",
      "tensor(1.1816)\n",
      "tensor(0.9091)\n",
      "tensor(1.1827)\n",
      "tensor(1.1883)\n",
      "tensor(1.0636)\n",
      "tensor(1.1163)\n",
      "tensor(1.2408)\n",
      "tensor(1.0151)\n",
      "tensor(0.9845)\n",
      "tensor(1.1326)\n",
      "tensor(0.9758)\n",
      "tensor(0.8823)\n",
      "tensor(1.1036)\n",
      "tensor(1.0624)\n",
      "tensor(1.1760)\n",
      "tensor(1.3915)\n",
      "tensor(1.0143)\n",
      "Loaded Acc: 81.31%\n"
     ]
    }
   ],
   "source": [
    "model_origin = MnistModel()\n",
    "print(model_origin.state_dict())\n",
    "\n",
    "origin_met = evaluate(model_origin,\n",
    "                  loss_func=loss_fn,\n",
    "                  valid_dataloader=test_loader,\n",
    "                  metric=accuracy)\n",
    "print('Origin Acc: {:.2f}%'.format(origin_met[2]*100))\n",
    "\n",
    "print()\n",
    "model_origin.load_state_dict(torch.load(model_file_name))\n",
    "print(model_origin.state_dict())\n",
    "\n",
    "origin_met = evaluate(model_origin,\n",
    "                  loss_func=loss_fn,\n",
    "                  valid_dataloader=test_loader,\n",
    "                  metric=accuracy)\n",
    "print('Loaded Acc: {:.2f}%'.format(origin_met[2]*100))"
   ],
   "metadata": {
    "collapsed": false,
    "pycharm": {
     "name": "#%%\n"
    }
   }
  },
  {
   "cell_type": "code",
   "execution_count": 140,
   "outputs": [
    {
     "name": "stdout",
     "output_type": "stream",
     "text": [
      "Cuda availability : True\n",
      "How many cuda device : 1\n",
      "Name of current device : NVIDIA GeForce RTX 3090\n"
     ]
    }
   ],
   "source": [
    "# TEST GPU\n",
    "import torch\n",
    "\n",
    "print('Cuda availability :',torch.cuda.is_available())\n",
    "print('How many cuda device :', torch.cuda.device_count())\n",
    "cuda_device = torch.cuda.current_device()\n",
    "print('Name of current device :',torch.cuda.get_device_name(cuda_device))"
   ],
   "metadata": {
    "collapsed": false,
    "pycharm": {
     "name": "#%%\n"
    }
   }
  }
 ],
 "metadata": {
  "kernelspec": {
   "name": "python3",
   "language": "python",
   "display_name": "Python 3"
  },
  "language_info": {
   "codemirror_mode": {
    "name": "ipython",
    "version": 2
   },
   "file_extension": ".py",
   "mimetype": "text/x-python",
   "name": "python",
   "nbconvert_exporter": "python",
   "pygments_lexer": "ipython2",
   "version": "2.7.6"
  }
 },
 "nbformat": 4,
 "nbformat_minor": 0
}